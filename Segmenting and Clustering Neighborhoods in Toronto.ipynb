{
 "cells": [
  {
   "cell_type": "code",
   "execution_count": 35,
   "metadata": {},
   "outputs": [],
   "source": [
    "import pandas as pd\n",
    "import numpy as np"
   ]
  },
  {
   "cell_type": "code",
   "execution_count": 36,
   "metadata": {},
   "outputs": [],
   "source": [
    "df = pd.read_html('https://en.wikipedia.org/wiki/List_of_postal_codes_of_Canada:_M', header = None)[0]\n",
    "\n",
    "temp1 = df[0]\n",
    "temp2 = df[1]\n",
    "temp3 = df[2]\n",
    "temp4 = df[3]\n",
    "temp5 = df[4]\n",
    "temp6 = df[5]\n",
    "temp7 = df[6]\n",
    "temp8 = df[7]\n",
    "temp9 = df[8]"
   ]
  },
  {
   "cell_type": "code",
   "execution_count": 37,
   "metadata": {},
   "outputs": [],
   "source": [
    "df1 = temp1\n",
    "df1 = df1.append(temp2, ignore_index= True)\n",
    "\n",
    "df1 = df1.append(temp3, ignore_index= True)\n",
    "\n",
    "df1 = df1.append(temp4, ignore_index= True)\n",
    "\n",
    "df1 = df1.append(temp5, ignore_index= True)\n",
    "\n",
    "df1 = df1.append(temp6, ignore_index= True)\n",
    "\n",
    "df1 = df1.append(temp7, ignore_index= True)\n",
    "\n",
    "df1 = df1.append(temp8, ignore_index= True)\n",
    "\n",
    "df1 = df1.append(temp9, ignore_index= True)"
   ]
  },
  {
   "cell_type": "code",
   "execution_count": 47,
   "metadata": {},
   "outputs": [],
   "source": [
    "# @hidden\n",
    "import re\n",
    "\n",
    "df2 = pd.DataFrame(index = None, columns = ['PostalCode','Borough','Neighborhood'])\n",
    "df2['PostalCode'] = df1.apply(lambda x: x.split('(')[0])\n",
    "df2['Neighborhood'] = df1.apply(lambda x: x.split('(')[-1])\n",
    "df2['Borough'] = df2['PostalCode'].apply(lambda x: ''.join(list(x)[3:]))\n",
    "df2['Borough'] = df2['Borough'].apply(lambda x: ' '.join(re.findall('[A-Z][^A-Z]*',x)))\n",
    "df2['PostalCode'] = df2['PostalCode'].apply(lambda x: ''.join(list(x)[:3]))\n",
    "df2['Neighborhood'] = df2['Neighborhood'].apply(lambda x: ','.join(x.split('/')))\n",
    "df2['Neighborhood'] = df2['Neighborhood'].apply(lambda x: x.split(')')[0])\n",
    "df2 = df2[df2.Borough != 'Not assigned']"
   ]
  },
  {
   "cell_type": "code",
   "execution_count": 48,
   "metadata": {},
   "outputs": [
    {
     "data": {
      "text/plain": [
       "(103, 3)"
      ]
     },
     "execution_count": 48,
     "metadata": {},
     "output_type": "execute_result"
    }
   ],
   "source": [
    "df2.shape"
   ]
  },
  {
   "cell_type": "code",
   "execution_count": 49,
   "metadata": {},
   "outputs": [
    {
     "data": {
      "text/html": [
       "<div>\n",
       "<style scoped>\n",
       "    .dataframe tbody tr th:only-of-type {\n",
       "        vertical-align: middle;\n",
       "    }\n",
       "\n",
       "    .dataframe tbody tr th {\n",
       "        vertical-align: top;\n",
       "    }\n",
       "\n",
       "    .dataframe thead th {\n",
       "        text-align: right;\n",
       "    }\n",
       "</style>\n",
       "<table border=\"1\" class=\"dataframe\">\n",
       "  <thead>\n",
       "    <tr style=\"text-align: right;\">\n",
       "      <th></th>\n",
       "      <th>PostalCode</th>\n",
       "      <th>Borough</th>\n",
       "      <th>Neighborhood</th>\n",
       "    </tr>\n",
       "  </thead>\n",
       "  <tbody>\n",
       "    <tr>\n",
       "      <th>1</th>\n",
       "      <td>M1B</td>\n",
       "      <td>Scarborough</td>\n",
       "      <td>Malvern , Rouge</td>\n",
       "    </tr>\n",
       "    <tr>\n",
       "      <th>2</th>\n",
       "      <td>M1C</td>\n",
       "      <td>Scarborough</td>\n",
       "      <td>Rouge Hill , Port Union , Highland Creek</td>\n",
       "    </tr>\n",
       "    <tr>\n",
       "      <th>3</th>\n",
       "      <td>M1E</td>\n",
       "      <td>Scarborough</td>\n",
       "      <td>Guildwood , Morningside , West Hill</td>\n",
       "    </tr>\n",
       "    <tr>\n",
       "      <th>4</th>\n",
       "      <td>M1G</td>\n",
       "      <td>Scarborough</td>\n",
       "      <td>Woburn</td>\n",
       "    </tr>\n",
       "    <tr>\n",
       "      <th>5</th>\n",
       "      <td>M1H</td>\n",
       "      <td>Scarborough</td>\n",
       "      <td>Cedarbrae</td>\n",
       "    </tr>\n",
       "    <tr>\n",
       "      <th>6</th>\n",
       "      <td>M1J</td>\n",
       "      <td>Scarborough</td>\n",
       "      <td>Scarborough Village</td>\n",
       "    </tr>\n",
       "    <tr>\n",
       "      <th>7</th>\n",
       "      <td>M1K</td>\n",
       "      <td>Scarborough</td>\n",
       "      <td>Kennedy Park , Ionview , East Birchmount Park</td>\n",
       "    </tr>\n",
       "    <tr>\n",
       "      <th>8</th>\n",
       "      <td>M1L</td>\n",
       "      <td>Scarborough</td>\n",
       "      <td>Golden Mile , Clairlea , Oakridge</td>\n",
       "    </tr>\n",
       "    <tr>\n",
       "      <th>9</th>\n",
       "      <td>M1M</td>\n",
       "      <td>Scarborough</td>\n",
       "      <td>Cliffside , Cliffcrest , Scarborough Village West</td>\n",
       "    </tr>\n",
       "    <tr>\n",
       "      <th>10</th>\n",
       "      <td>M1N</td>\n",
       "      <td>Scarborough</td>\n",
       "      <td>Birch Cliff , Cliffside West</td>\n",
       "    </tr>\n",
       "  </tbody>\n",
       "</table>\n",
       "</div>"
      ],
      "text/plain": [
       "   PostalCode      Borough                                       Neighborhood\n",
       "1         M1B  Scarborough                                    Malvern , Rouge\n",
       "2         M1C  Scarborough           Rouge Hill , Port Union , Highland Creek\n",
       "3         M1E  Scarborough                Guildwood , Morningside , West Hill\n",
       "4         M1G  Scarborough                                             Woburn\n",
       "5         M1H  Scarborough                                          Cedarbrae\n",
       "6         M1J  Scarborough                                Scarborough Village\n",
       "7         M1K  Scarborough      Kennedy Park , Ionview , East Birchmount Park\n",
       "8         M1L  Scarborough                  Golden Mile , Clairlea , Oakridge\n",
       "9         M1M  Scarborough  Cliffside , Cliffcrest , Scarborough Village West\n",
       "10        M1N  Scarborough                       Birch Cliff , Cliffside West"
      ]
     },
     "execution_count": 49,
     "metadata": {},
     "output_type": "execute_result"
    }
   ],
   "source": [
    "df2.head(10)"
   ]
  },
  {
   "cell_type": "code",
   "execution_count": null,
   "metadata": {},
   "outputs": [],
   "source": []
  }
 ],
 "metadata": {
  "kernelspec": {
   "display_name": "Python 3.6",
   "language": "python",
   "name": "python3"
  },
  "language_info": {
   "codemirror_mode": {
    "name": "ipython",
    "version": 3
   },
   "file_extension": ".py",
   "mimetype": "text/x-python",
   "name": "python",
   "nbconvert_exporter": "python",
   "pygments_lexer": "ipython3",
   "version": "3.6.9"
  }
 },
 "nbformat": 4,
 "nbformat_minor": 1
}
