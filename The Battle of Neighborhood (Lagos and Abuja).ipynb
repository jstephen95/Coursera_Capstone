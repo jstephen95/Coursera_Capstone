{
    "cells": [
        {
            "cell_type": "markdown",
            "metadata": {
                "collapsed": true
            },
            "source": "# Battle of Neighborhoods (Abuja and Lagos)"
        },
        {
            "cell_type": "markdown",
            "metadata": {},
            "source": "# Introduction: Business Problem"
        },
        {
            "cell_type": "markdown",
            "metadata": {},
            "source": "In this project, we will compare 2 states in Nigeria (Abuja and Lagos) to know where is more suitable for *Business trip and/or Vacation trip*. **Lagos** and **Abuja** are major states in **Nigeria** for business trips or vacations trips.  \nWe are going to tahe a glimplse on which of the state is more suitable to go on *Business trips or vacation trips*."
        },
        {
            "cell_type": "markdown",
            "metadata": {},
            "source": "## Target Audience\nTarget audiences for this project does not limit to a person who keeps travelling but everyone. People could simply decide to look for a similar location to do vacation or get the best place in the state to go for vaction or business trip.  \nSo target for this project is basically everyone who is exploring different places or similar places."
        },
        {
            "cell_type": "markdown",
            "metadata": {},
            "source": ""
        },
        {
            "cell_type": "markdown",
            "metadata": {},
            "source": "# Data\n\nIn order to accomplish this goal, the cities of each state with their latitudes and longitudes are required. The longitude and latitude of each locations in the state were computed manually as well as the . From this data, I need to select the capital cities and using their latitude and longitude values, I need to explore the venues with \"art\" section around these cities by utilizing Foursquare API.\n\nThen I used the acquired location data to explore the nearby art venues from the Foursquare API. Using the \"explore\" option, I look for top 25 art venues in 10 km radius for each city center and I get \"Venue\", \"Venue Latitude\", \"Venue Longitude\" and \"Venue Category\" columns."
        },
        {
            "cell_type": "code",
            "execution_count": null,
            "metadata": {},
            "outputs": [],
            "source": ""
        }
    ],
    "metadata": {
        "kernelspec": {
            "display_name": "Python 3.6",
            "language": "python",
            "name": "python3"
        },
        "language_info": {
            "codemirror_mode": {
                "name": "ipython",
                "version": 3
            },
            "file_extension": ".py",
            "mimetype": "text/x-python",
            "name": "python",
            "nbconvert_exporter": "python",
            "pygments_lexer": "ipython3",
            "version": "3.6.9"
        }
    },
    "nbformat": 4,
    "nbformat_minor": 1
}